{
 "cells": [
  {
   "cell_type": "code",
   "execution_count": 1,
   "metadata": {},
   "outputs": [],
   "source": [
    "# imports\n",
    "import numpy as np\n",
    "from scipy import optimize\n",
    "import matplotlib.pyplot as plt\n",
    "\n",
    "class Bond(object):\n",
    "    def __init__(self, coupon=None, frequency=None, maturity=None, notional=None):\n",
    "        self.coupon = np.divide(coupon, 100) # coupon in rate, we assume input is in percent (eg. 4%)\n",
    "        self.frequency = frequency # annual frequency is 1, semi annual frequency is 2, etc.\n",
    "        self.maturity = maturity # maturity in years\n",
    "        self.notional = notional # par value of the bond\n",
    "        \n",
    "    def present_value(self, YTM):\n",
    "        # Returns: Present value in dollars given a YTM\n",
    "        # We assume input is in percent (eg. 4%)\n",
    "        YTM = np.divide(YTM, 100)\n",
    "        # coupon * notional * 1/frequency for the coupon payment of a bond\n",
    "        coupon_payment = np.prod([self.coupon, self.notional, np.divide(1, self.frequency)])\n",
    "        # total number of payments is the frequency and maturity (eg. semi annual for three years is 6 payments)\n",
    "        number_of_payments = np.multiply(self.maturity, self.frequency)\n",
    "        # 1+ YTM/frequency\n",
    "        discount_rate = np.add(1,np.divide(YTM,self.frequency))\n",
    "        PV = 0\n",
    "        for payment in range(1,number_of_payments+1):\n",
    "            # discount for the number of terms for YTM\n",
    "            total_discount_rate = np.power(discount_rate, payment)\n",
    "            coupon_payment = np.prod([self.coupon, self.notional, np.divide(1, self.frequency)])\n",
    "            if payment == number_of_payments:\n",
    "                # you get your notional back at the end\n",
    "                total_coupon_payment = np.add(coupon_payment, self.notional)\n",
    "            else: \n",
    "                total_coupon_payment = coupon_payment\n",
    "            PV += np.divide(total_coupon_payment, total_discount_rate)\n",
    "        return PV\n",
    "    \n",
    "    # Generates cashflow at period X given rate Y \n",
    "    def cashflow(self, period, rate):\n",
    "        rate = np.divide(rate, 100)\n",
    "        if period == self.maturity:\n",
    "            coupon_payment += self.notional\n",
    "        discount_rate = np.add(1,np.divide(rate,self.frequency))\n",
    "        total_discount_rate = np.power(discount_rate, period)\n",
    "        cashflow = np.divide(coupon_payment, total_discount_rate)\n",
    "        return cashflow\n",
    "\n",
    "    def duration(self, YTM): # non modified duration, need to divide by (1+ytm/f) to get modified duration\n",
    "        YTM = np.divide(YTM, 100)\n",
    "        number_of_payments = np.multiply(self.maturity, self.frequency)\n",
    "        coupon_payment = np.prod([self.coupon, self.notional, np.divide(1, self.frequency)])\n",
    "        discount_rate = np.add(1,np.divide(YTM,self.frequency))\n",
    "        PV = 0\n",
    "        for payment in range(1,number_of_payments+1):\n",
    "            total_discount_rate = np.power(discount_rate, payment)\n",
    "            if payment == number_of_payments:\n",
    "                # you get your notional back at the end\n",
    "                total_coupon_payment = np.multiply(np.divide(payment, self.frequency), np.add(coupon_payment, self.notional))\n",
    "            else: \n",
    "                total_coupon_payment = np.multiply(np.divide(payment, self.frequency), coupon_payment)\n",
    "            PV += np.divide(total_coupon_payment, total_discount_rate)\n",
    "        return np.divide(PV, self.present_value(100*YTM))\n",
    "    \n",
    "    def convexity(self, YTM):\n",
    "        YTM = np.divide(YTM, 100)\n",
    "        number_of_payments = np.multiply(self.maturity, self.frequency)\n",
    "        coupon_payment = np.prod([self.coupon, self.notional, np.divide(1, self.frequency)])\n",
    "        discount_rate = np.add(1,np.divide(YTM,self.frequency))\n",
    "        PV = 0\n",
    "        for payment in range(1,number_of_payments+1):\n",
    "            total_discount_rate = np.power(discount_rate, payment)\n",
    "            if payment == number_of_payments:\n",
    "                # you get your notional back at the end\n",
    "                total_coupon_payment = np.multiply(np.add(np.power(payment,2),payment), np.add(coupon_payment, self.notional))\n",
    "            else: \n",
    "                total_coupon_payment = np.multiply(np.add(np.power(payment,2),payment), coupon_payment)\n",
    "            PV += np.divide(total_coupon_payment, total_discount_rate)\n",
    "            \n",
    "            denominator_PV = self.present_value(100*YTM)\n",
    "            denominator_second_factor = np.power((1+YTM/self.frequency),2) * np.power(self.frequency,2)\n",
    "            second_derivative_factor = np.multiply(denominator_PV,denominator_second_factor)\n",
    "        return np.divide(PV, second_derivative_factor)"
   ]
  },
  {
   "cell_type": "code",
   "execution_count": 4,
   "metadata": {},
   "outputs": [
    {
     "name": "stdout",
     "output_type": "stream",
     "text": [
      "104.81856038072576\n",
      "0.9767309875141884\n",
      "1.3834260321507457\n"
     ]
    }
   ],
   "source": [
    "bond_a = Bond(coupon=10, frequency=2, maturity=1, notional=100)\n",
    "print(bond_a.present_value(5))\n",
    "print(bond_a.duration(5))\n",
    "print(bond_a.convexity(5))"
   ]
  },
  {
   "cell_type": "code",
   "execution_count": null,
   "metadata": {},
   "outputs": [],
   "source": [
    "http://facweb.plattsburgh.edu/razvan.pascalau/BondForm.php\n"
   ]
  },
  {
   "cell_type": "code",
   "execution_count": null,
   "metadata": {},
   "outputs": [],
   "source": []
  },
  {
   "cell_type": "code",
   "execution_count": null,
   "metadata": {},
   "outputs": [],
   "source": []
  }
 ],
 "metadata": {
  "kernelspec": {
   "display_name": "Python 3",
   "language": "python",
   "name": "python3"
  },
  "language_info": {
   "codemirror_mode": {
    "name": "ipython",
    "version": 3
   },
   "file_extension": ".py",
   "mimetype": "text/x-python",
   "name": "python",
   "nbconvert_exporter": "python",
   "pygments_lexer": "ipython3",
   "version": "3.6.5"
  }
 },
 "nbformat": 4,
 "nbformat_minor": 2
}
