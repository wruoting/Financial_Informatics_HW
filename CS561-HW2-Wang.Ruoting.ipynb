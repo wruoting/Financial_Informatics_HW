{
 "cells": [
  {
   "cell_type": "code",
   "execution_count": 1,
   "metadata": {},
   "outputs": [],
   "source": [
    "# imports\n",
    "import numpy as np\n",
    "from scipy import optimize\n",
    "import matplotlib.pyplot as plt"
   ]
  },
  {
   "cell_type": "code",
   "execution_count": 2,
   "metadata": {},
   "outputs": [],
   "source": [
    "# Terms of five bonds are given below\n",
    "years = [1, 3, 5, 7, 10] # number of years\n",
    "coupons = [4.125, 5.125, 6.125, 7.125, 8.0]  # in percent\n",
    "prices = [103, 103.5, 112.5, 116, 118]\n",
    "# all bonds are semi annual coupon paying bonds with notional of 100.0"
   ]
  },
  {
   "cell_type": "markdown",
   "metadata": {},
   "source": [
    "### Steps\n",
    "* Write a Bond class that takes coupon, frequency, maturity, notional to construct a bond.\n",
    "* Generate bond Cashflows\n",
    "* This class should have function to calculate PV given an interest rate\n",
    "* Write another class with objective function\n",
    "* Run Bisection, Secant and Newton solver, Plot error function.\n",
    "* calculate YTM for the above bonds using solvers you have implemented. Make sure YTM is form each of the methods matches.\n"
   ]
  },
  {
   "cell_type": "markdown",
   "metadata": {},
   "source": [
    "### Hints\n",
    "* Remember Bond cash flow for semi annual bond per period is 1/2 of coupon * notional and last payment also has additional notional.\n",
    "* PV of a bond is sum of presnt value of each cashflow."
   ]
  },
  {
   "cell_type": "code",
   "execution_count": 3,
   "metadata": {},
   "outputs": [],
   "source": [
    "class Bond(object):\n",
    "    def __init__(self, coupon=None, frequency=None, maturity=None, notional=None):\n",
    "        self.coupon = np.divide(coupon, 100) # coupon in rate, we assume input is in percent (eg. 4%)\n",
    "        self.frequency = frequency # annual frequency is 1, semi annual frequency is 2, etc.\n",
    "        self.maturity = maturity # maturity in years\n",
    "        self.notional = notional # par value of the bond\n",
    "        \n",
    "    def present_value(self, YTM):\n",
    "        # Returns: Present value in dollars given a YTM\n",
    "        # We assume input is in percent (eg. 4%)\n",
    "        YTM = np.divide(YTM, 100)\n",
    "        # coupon * notional * 1/frequency for the coupon payment of a bond\n",
    "        coupon_payment = np.prod([self.coupon, self.notional, np.divide(1, self.frequency)])\n",
    "        # total number of payments is the frequency and maturity (eg. semi annual for three years is 6 payments)\n",
    "        number_of_payments = np.multiply(self.maturity, self.frequency)\n",
    "        # 1+ YTM/frequency\n",
    "        discount_rate = np.add(1,np.divide(YTM,self.frequency))\n",
    "        PV = 0\n",
    "        for payment in range(1,number_of_payments+1):\n",
    "            # discount for the number of terms for YTM\n",
    "            total_discount_rate = np.power(discount_rate, payment)\n",
    "            if payment == number_of_payments:\n",
    "                # you get your notional back at the end\n",
    "                total_coupon_payment = np.add(coupon_payment, self.notional)\n",
    "            else: \n",
    "                total_coupon_payment = coupon_payment\n",
    "            PV += np.divide(total_coupon_payment, total_discount_rate)\n",
    "        return PV\n",
    "    \n",
    "    # Generates cashflow at period X given rate Y \n",
    "    def cashflow(self, period, rate):\n",
    "        rate = np.divide(rate, 100)\n",
    "        coupon_payment = np.prod([self.coupon, self.notional, np.divide(1, self.frequency)])\n",
    "        if period == self.maturity:\n",
    "            coupon_payment += self.notional\n",
    "        discount_rate = np.add(1,np.divide(rate,self.frequency))\n",
    "        total_discount_rate = np.power(discount_rate, period)\n",
    "        cashflow = np.divide(coupon_payment, total_discount_rate)\n",
    "        return cashflow\n",
    "\n",
    "            \n",
    "# *we assume rates are annual"
   ]
  },
  {
   "cell_type": "code",
   "execution_count": 4,
   "metadata": {},
   "outputs": [
    {
     "name": "stdout",
     "output_type": "stream",
     "text": [
      "Present value given a YTM of 3%: $1037.1709840281035\n",
      "Cash flow at period 2 given a rate of 3%: $37.70383636535018\n"
     ]
    }
   ],
   "source": [
    "# Test for bond value\n",
    "# This is for a bond with a notional of 1000, a coupon rate of 4%, a maturity of 4 years\n",
    "# that compounds annually with a YTM of 3%\n",
    "Bond_A = Bond(coupon=4, frequency=1, maturity=4, notional=1000)\n",
    "print(\"Present value given a YTM of 3%: $\"+ str(Bond_A.present_value(3))) \n",
    "print(\"Cash flow at period 2 given a rate of 3%: $\" + str(Bond_A.cashflow(2,3)))"
   ]
  },
  {
   "cell_type": "code",
   "execution_count": 5,
   "metadata": {},
   "outputs": [],
   "source": [
    "class Objective(object):\n",
    "    # Output YTMs are in percentages, so 4 would be 4%\n",
    "    def __init__(self, price=None, bond=None):\n",
    "        self.price = price\n",
    "        self.bond = bond\n",
    "        self.numiter=0\n",
    "        self.error = []\n",
    "    \n",
    "    def f_prime_pv(self, YTM):\n",
    "        # using the macaulay duration here since it's fprime\n",
    "        YTM = np.divide(YTM, 100)\n",
    "        bond = self.bond\n",
    "        number_of_payments = np.multiply(bond.maturity, bond.frequency)\n",
    "        discount_rate = np.add(1,np.divide(YTM, bond.frequency))\n",
    "        coupon_payment = np.prod([bond.coupon, bond.notional, np.divide(1, bond.frequency)])\n",
    "        PV = 0\n",
    "        for payment in range(1,number_of_payments+1):\n",
    "            total_discount_rate = np.power(discount_rate, payment)\n",
    "            if payment == number_of_payments:\n",
    "                total_coupon_payment = np.add(coupon_payment, bond.notional)\n",
    "            else: \n",
    "                total_coupon_payment = np.multiply(coupon_payment, payment)\n",
    "            PV += np.divide(total_coupon_payment, total_discount_rate)\n",
    "        return PV\n",
    "\n",
    "    def clear_error(self):\n",
    "        self.numiter = 0\n",
    "        self.error =[]\n",
    "        \n",
    "    def optimize_function(self, YTM):\n",
    "        # We are trying to optimize such that given a price, we determine the YTM by moving PV to price\n",
    "        PV_function = np.subtract(self.price, self.bond.present_value(YTM))\n",
    "        self.numiter += 1\n",
    "        self.error.append(PV_function)\n",
    "        return PV_function\n",
    "    \n",
    "    @property\n",
    "    def bisection(self):\n",
    "        try:\n",
    "            root = optimize.bisect(self.optimize_function, 0, 15)\n",
    "        except ValueError as err:\n",
    "            print (err)\n",
    "        return root\n",
    "    \n",
    "    @property\n",
    "    def secant(self):\n",
    "        try:\n",
    "            root = optimize.newton(self.optimize_function, 0)\n",
    "        except ValueError as err:\n",
    "            print (err)\n",
    "        return root\n",
    "    \n",
    "    @property\n",
    "    def newton(self):\n",
    "        try:\n",
    "            root = optimize.newton(self.optimize_function, 0, fprime = self.f_prime_pv, tol=1e-9, maxiter=600)\n",
    "        except ValueError as err:\n",
    "            print (err)\n",
    "        return root"
   ]
  },
  {
   "cell_type": "code",
   "execution_count": 6,
   "metadata": {},
   "outputs": [
    {
     "name": "stdout",
     "output_type": "stream",
     "text": [
      "Bisection YTM: 4.000000000001478\n",
      "Secant YTM: 4.000000000000007\n",
      "Newton YTM: 3.999999970808339\n",
      "Bisection YTM to price: 999.9999999999467\n",
      "Secant YTM to price: 999.9999999999998\n",
      "Newton YTM to price: 1000.0000010596269\n"
     ]
    }
   ],
   "source": [
    "Objective_Bond_A = Objective(price=1000, bond=Bond_A)\n",
    "print(\"Bisection YTM: \" + str(Objective_Bond_A.bisection))\n",
    "print(\"Secant YTM: \" + str(Objective_Bond_A.secant))\n",
    "print(\"Newton YTM: \" + str(Objective_Bond_A.newton))\n",
    "print(\"Bisection YTM to price: \" + str(Bond_A.present_value(Objective_Bond_A.bisection)))\n",
    "print(\"Secant YTM to price: \" + str(Bond_A.present_value(Objective_Bond_A.secant)))\n",
    "print(\"Newton YTM to price: \" + str(Bond_A.present_value(Objective_Bond_A.newton)))\n",
    "# We can see here that the price of the bond is calculated correctly given the YTM, meaning our solvers are correct"
   ]
  },
  {
   "cell_type": "code",
   "execution_count": 7,
   "metadata": {},
   "outputs": [
    {
     "data": {
      "image/png": "[encoded data removed]",
      "text/plain": [
       "<Figure size 432x288 with 1 Axes>"
      ]
     },
     "metadata": {
      "needs_background": "light"
     },
     "output_type": "display_data"
    }
   ],
   "source": [
    "# Graphs\n",
    "Objective_Bond_A = Objective(price=1000, bond=Bond_A)\n",
    "\n",
    "# Bisection\n",
    "Objective_Bond_A.bisection\n",
    "x = np.arange(len(Objective_Bond_A.error))\n",
    "plt.plot(x, Objective_Bond_A.error, '-')\n",
    "plt.title('Bisection Method: Error')\n",
    "plt.xlabel('Iteration')\n",
    "\n",
    "Objective_Bond_A.clear_error()"
   ]
  },
  {
   "cell_type": "code",
   "execution_count": 8,
   "metadata": {},
   "outputs": [
    {
     "data": {
      "image/png": "[encoded data removed]",
      "text/plain": [
       "<Figure size 432x288 with 1 Axes>"
      ]
     },
     "metadata": {
      "needs_background": "light"
     },
     "output_type": "display_data"
    }
   ],
   "source": [
    "# Secant\n",
    "Objective_Bond_A.secant\n",
    "x = np.arange(len(Objective_Bond_A.error))\n",
    "plt.plot(x, Objective_Bond_A.error, '-')\n",
    "plt.title('Secant Method: Error')\n",
    "plt.xlabel('Iteration')\n",
    "Objective_Bond_A.clear_error()"
   ]
  },
  {
   "cell_type": "code",
   "execution_count": 9,
   "metadata": {},
   "outputs": [
    {
     "data": {
      "image/png": "[encoded data removed]",
      "text/plain": [
       "<Figure size 432x288 with 1 Axes>"
      ]
     },
     "metadata": {
      "needs_background": "light"
     },
     "output_type": "display_data"
    }
   ],
   "source": [
    "# Newton\n",
    "Objective_Bond_A.newton\n",
    "x = np.arange(len(Objective_Bond_A.error))\n",
    "plt.plot(x, Objective_Bond_A.error, '-')\n",
    "plt.title('Newton Method: Error')\n",
    "plt.xlabel('Iteration')\n",
    "Objective_Bond_A.clear_error()\n"
   ]
  },
  {
   "cell_type": "code",
   "execution_count": 10,
   "metadata": {},
   "outputs": [
    {
     "name": "stdout",
     "output_type": "stream",
     "text": [
      "The YTM for bond 1 is: 1.1002223624308272 %\n",
      "The YTM for bond 2 is: 3.8778929392589134 %\n",
      "The YTM for bond 3 is: 3.386329347833339 %\n",
      "The YTM for bond 4 is: 4.440582947575535 %\n",
      "The YTM for bond 5 is: 5.622287626322873 %\n"
     ]
    }
   ],
   "source": [
    "for index, (maturity, coupon, price) in enumerate(zip(years, coupons, prices)):\n",
    "    bond = Bond(coupon=coupon, frequency=2, maturity=maturity, notional=100)\n",
    "    objective = Objective(price=price, bond=bond)\n",
    "    print(\"The YTM for bond \" + str(index+1) + \" is: \" + str(objective.bisection) + \" %\")"
   ]
  },
  {
   "cell_type": "code",
   "execution_count": null,
   "metadata": {},
   "outputs": [],
   "source": []
  }
 ],
 "metadata": {
  "kernelspec": {
   "display_name": "Python 3",
   "language": "python",
   "name": "python3"
  },
  "language_info": {
   "codemirror_mode": {
    "name": "ipython",
    "version": 3
   },
   "file_extension": ".py",
   "mimetype": "text/x-python",
   "name": "python",
   "nbconvert_exporter": "python",
   "pygments_lexer": "ipython3",
   "version": "3.6.5"
  }
 },
 "nbformat": 4,
 "nbformat_minor": 2
}
