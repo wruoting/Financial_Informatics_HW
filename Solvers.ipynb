{
 "cells": [
  {
   "cell_type": "markdown",
   "metadata": {},
   "source": [
    "# Solvers\n",
    "### Optimization methods to find inverse of a function\n",
    "* division is inverse of multiplication\n",
    "* Log is inverse of exponential\n",
    "### Finance examples: \n",
    "* Computing implied Vol give Black Scholes option price\n",
    "* Yield to maturity of a bond\n",
    "* Discount factor when bootstrapping a swap curve\n",
    "\n",
    "### It is often difficult to solve an inverse function analytically.\n",
    "\n",
    "Goal is to find value of input variables that give a desired value of output variable.\n",
    "If $y = f(x) $ find value of x for a given value of y. \n",
    "lets say $ f(x) = x^2 + x $ and we want to find value of x when function value is 6 \n",
    "We do this all the time when we find roots of a polynomial\n",
    "$X^2 + x -6 = 0$ values of x that satisfy this equation are $x = +2$ or $x = -3$\n"
   ]
  },
  {
   "cell_type": "markdown",
   "metadata": {},
   "source": [
    "### Goal is to find value of x where function results in value V.\n",
    "### We can subtract V from the function and then find value of x where function intersects x axis (or y value is zero)\n",
    "### Bisection method\n",
    "* Requires two end points within which the root of the function is expected to lie\n",
    "* This method starts with a wide space and iteratively divides the search space in half, and correctly identifies the half space \n",
    " which contains the root\n",
    "* Given [a, b] as two end points, first make sure that f(a) * f(b) < 0\n",
    "* Compute c as (a+b)/2, then choose region [a, c] if f(a) * f(c) < 0 else choose [c, b] if f(c) * f(b) < 0"
   ]
  },
  {
   "cell_type": "code",
   "execution_count": 2,
   "metadata": {},
   "outputs": [],
   "source": [
    "# imports\n",
    "import numpy as np\n",
    "from scipy import optimize\n",
    "import matplotlib.pyplot as plt"
   ]
  },
  {
   "cell_type": "code",
   "execution_count": 3,
   "metadata": {},
   "outputs": [],
   "source": [
    "optimize.bisect?\n"
   ]
  },
  {
   "cell_type": "code",
   "execution_count": 4,
   "metadata": {},
   "outputs": [],
   "source": [
    "# Create a class to house objective function. It also serves to collect optimization statistics\n",
    "class EquationSolver:\n",
    "\n",
    "    def __init__(self, target):\n",
    "        self.numiter=0\n",
    "        self.error = []\n",
    "        self.target = target\n",
    "        \n",
    "    def objectiveFunction(self, x):\n",
    "        self.numiter += 1\n",
    "        self.error.append(x*x + x -self.target)\n",
    "        return x*x + x - self.target\n",
    "    \n",
    "    def derivative(self, x):\n",
    "        return 2*x + 1\n"
   ]
  },
  {
   "cell_type": "code",
   "execution_count": null,
   "metadata": {},
   "outputs": [],
   "source": [
    "target = 6\n",
    "eqSolver = EquationSolver(target)\n",
    "\n",
    "try:\n",
    "    root = optimize.bisect(eqSolver.objectiveFunction, 0, 10, xtol=1e-9, rtol=1e-10, maxiter=100, full_output=True)\n",
    "    print(root)\n",
    "    print('%.5f is value of x where f(x) = %.2d, it was found in %d iterations' % (root[0], target, eqSolver.numiter))\n",
    "    x = np.arange(len(eqSolver.error))\n",
    "    plt.plot(x, eqSolver.error, '-')\n",
    "    plt.title('Bisection Method: Error')\n",
    "    plt.xlabel('Iteration')\n",
    "except ValueError as err:\n",
    "    print (err)"
   ]
  },
  {
   "cell_type": "markdown",
   "metadata": {},
   "source": [
    "## Secant Method\n",
    "* Given a guess, calculate slope of the function at x=guess\n",
    "* Draw the line with the calculated slope and guess point\n",
    "* Next guess is where the line intersects x-axis\n",
    "* Keep iterating till you have reached the desired tolerance.\n",
    "\n",
    "$$x_{n+1} = x_{n} -\\dfrac{x_n - x_{n-1}}{f(x_n)-f(x_{n-1})}f(x_n) $$"
   ]
  },
  {
   "cell_type": "code",
   "execution_count": 6,
   "metadata": {},
   "outputs": [
    {
     "name": "stdout",
     "output_type": "stream",
     "text": [
      "2.00000 is value of x where f(x) = 06, it was found in 8 iterations\n",
      "8\n"
     ]
    },
    {
     "data": {
      "image/png": "[encoded data removed]",
      "text/plain": [
       "<Figure size 432x288 with 1 Axes>"
      ]
     },
     "metadata": {
      "needs_background": "light"
     },
     "output_type": "display_data"
    }
   ],
   "source": [
    "\n",
    "\n",
    "from scipy import optimize\n",
    "target = 6\n",
    "eqSolver = EquationSolver(target)\n",
    "try:\n",
    "    root = optimize.newton(eqSolver.objectiveFunction, 1, tol=1e-9, maxiter=100)\n",
    "    print('%.5f is value of x where f(x) = %.2d, it was found in %d iterations' % (root, target, eqSolver.numiter))\n",
    "    print(len(eqSolver.error))\n",
    "    x = np.arange(len(eqSolver.error))\n",
    "    plt.plot(x, eqSolver.error, '-')\n",
    "    plt.title('Secant Method: Error')\n",
    "    plt.xlabel('Iteration')\n",
    "except ValueError as err:\n",
    "    print (err)"
   ]
  },
  {
   "cell_type": "markdown",
   "metadata": {},
   "source": [
    "## Newton Raphson\n",
    "* Newton Raphson method also commonly known as Newton's method\n",
    "* Use this method If the first derivative analytically computable and is easy to compute.\n",
    "* This method is functionally similar to Secant, just that it uses first derivative instead of finite difference approximation\n",
    "\n",
    "$$ x_{i+1} = x_{i} - \\dfrac{f(x_i)}{f^{\\prime}(x_i)}$$"
   ]
  },
  {
   "cell_type": "code",
   "execution_count": 6,
   "metadata": {},
   "outputs": [],
   "source": [
    "optimize.newton?\n"
   ]
  },
  {
   "cell_type": "code",
   "execution_count": 7,
   "metadata": {},
   "outputs": [
    {
     "name": "stdout",
     "output_type": "stream",
     "text": [
      "2.00000 is value of x where f(x) = 06, it was found in 6 iterations\n",
      "6\n"
     ]
    },
    {
     "data": {
      "image/png": "[encoded data removed]",
      "text/plain": [
       "<Figure size 432x288 with 1 Axes>"
      ]
     },
     "metadata": {
      "needs_background": "light"
     },
     "output_type": "display_data"
    }
   ],
   "source": [
    "\n",
    "target = 6\n",
    "eqSolver = EquationSolver(target)\n",
    "try:\n",
    "    root = optimize.newton(eqSolver.objectiveFunction, 1, fprime=eqSolver.derivative, tol=1e-9, maxiter=100)\n",
    "    print('%.5f is value of x where f(x) = %.2d, it was found in %d iterations' % (root, target, eqSolver.numiter))\n",
    "    print(len(eqSolver.error))\n",
    "    x = np.arange(len(eqSolver.error))\n",
    "    plt.plot(x, eqSolver.error, '-')\n",
    "    plt.title(\"Newton's method: Error\")\n",
    "    plt.xlabel(\"Iteration\")\n",
    "except ValueError as err:\n",
    "    print (err)"
   ]
  },
  {
   "cell_type": "markdown",
   "metadata": {},
   "source": [
    "## Brent method\n",
    "* It combines Bisection and Secant/Newton\n",
    "* If Secant/Newton guess is outside of range, use bisection otherwise use Secant\n"
   ]
  },
  {
   "cell_type": "code",
   "execution_count": 8,
   "metadata": {},
   "outputs": [
    {
     "name": "stdout",
     "output_type": "stream",
     "text": [
      "2.00000 is value of x where f(x) = 06, it was found in 11 iterations\n",
      "11\n"
     ]
    },
    {
     "data": {
      "image/png": "[encoded data removed]",
      "text/plain": [
       "<Figure size 432x288 with 1 Axes>"
      ]
     },
     "metadata": {
      "needs_background": "light"
     },
     "output_type": "display_data"
    }
   ],
   "source": [
    "\n",
    "target = 6\n",
    "eqSolver = EquationSolver(target)\n",
    "try:\n",
    "    root = optimize.brentq(eqSolver.objectiveFunction, 0, 10, xtol=1e-9, rtol=1e-10, maxiter=100, full_output=True)\n",
    "    print('%.5f is value of x where f(x) = %.2d, it was found in %d iterations' % (root[0], target, eqSolver.numiter))\n",
    "    print(len(eqSolver.error))\n",
    "    x = np.arange(len(eqSolver.error))\n",
    "    plt.plot(x, eqSolver.error, '-')\n",
    "    plt.title('Brent Method: Error')\n",
    "    plt.xlabel('Iteration')\n",
    "\n",
    "except ValueError as err:\n",
    "    print (err)"
   ]
  },
  {
   "cell_type": "code",
   "execution_count": null,
   "metadata": {},
   "outputs": [],
   "source": []
  },
  {
   "cell_type": "code",
   "execution_count": null,
   "metadata": {},
   "outputs": [],
   "source": []
  }
 ],
 "metadata": {
  "kernelspec": {
   "display_name": "Python 3",
   "language": "python",
   "name": "python3"
  },
  "language_info": {
   "codemirror_mode": {
    "name": "ipython",
    "version": 3
   },
   "file_extension": ".py",
   "mimetype": "text/x-python",
   "name": "python",
   "nbconvert_exporter": "python",
   "pygments_lexer": "ipython3",
   "version": "3.6.5"
  }
 },
 "nbformat": 4,
 "nbformat_minor": 2
}
