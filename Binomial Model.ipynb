{
 "cells": [
  {
   "cell_type": "code",
   "execution_count": 1,
   "metadata": {},
   "outputs": [],
   "source": [
    "# We are assuming the use of an American Call here, meaning that we can exercise early \n",
    "import numpy as np\n",
    "class Option(object):\n",
    "    def __init__(self, option_type=None, price=None, strike=None, sigma=None,\n",
    "                 interest=None, expiry=None, steps=None, time_to_expiry = None):\n",
    "        self.option_type = option_type\n",
    "        self.price = price\n",
    "        self.strike = strike\n",
    "        self.sigma = sigma\n",
    "        self.interest = interest\n",
    "        self.expiry = expiry\n",
    "        self.steps = steps\n",
    "        self.time_to_expiry = time_to_expiry if time_to_expiry else self.steps - 1\n",
    "    \n",
    "    @property\n",
    "    def dt(self):\n",
    "        return np.divide(float(self.expiry), float(self.steps))\n",
    "    \n",
    "    @property\n",
    "    def u(self):\n",
    "        sqrt_dt = np.sqrt(self.dt)\n",
    "        sigma_dt = np.multiply(self.sigma, sqrt_dt)\n",
    "        return np.exp(sigma_dt)\n",
    "    \n",
    "    @property\n",
    "    def d(self):\n",
    "        sqrt_dt = np.sqrt(self.dt)\n",
    "        sigma_dt = -np.multiply(self.sigma, sqrt_dt)\n",
    "        return np.exp(sigma_dt)\n",
    "    \n",
    "    @property\n",
    "    def p(self):\n",
    "        r_dt = np.multiply(self.interest, self.dt)\n",
    "        p = np.divide(float(np.exp(r_dt) - self.d), float(self.u - self.d))\n",
    "        return p\n",
    "    \n",
    "    @property\n",
    "    def discount_factor(self):\n",
    "        return np.exp(np.multiply(-self.interest, 1/self.steps))\n",
    "    \n",
    "   \n",
    "    # We can make a dict representing the tree that exists for the binomial model\n",
    "    def layer_price(self):\n",
    "        tree_size = self.steps\n",
    "        t_0_price = self.price\n",
    "        heap_tree = []\n",
    "        layer_dict = {}\n",
    "        for i in range(0, tree_size):\n",
    "            layer_dict[i] = self.layer(i)\n",
    "        return layer_dict\n",
    "    \n",
    "    # This is the representation of a layer function\n",
    "    def layer(self, layer_number):\n",
    "        number_of_nodes = layer_number+1\n",
    "        layer_array = []\n",
    "        for i in range(0, number_of_nodes):\n",
    "            d_exponent = i\n",
    "            u_exponent = layer_number - d_exponent\n",
    "            abs_diff =np.absolute(u_exponent-d_exponent)\n",
    "            if u_exponent > d_exponent:\n",
    "                layer_array.append(np.multiply(self.price, np.power(self.u, abs_diff)))\n",
    "            elif d_exponent > u_exponent:\n",
    "                layer_array.append(np.multiply(self.price, np.power(self.d, abs_diff)))\n",
    "            elif u_exponent == d_exponent:\n",
    "                layer_array.append(self.price)\n",
    "        return layer_array\n",
    "    \n",
    "    def calculate_current_options_price(self, previous_option_values):\n",
    "        current_options_prices = []\n",
    "        for i in range(0, len(previous_option_values)-1):\n",
    "            p_up = previous_option_values[i]\n",
    "            p_down = previous_option_values[i+1]\n",
    "            expected_value = self.p * p_up + (1-self.p) * p_down\n",
    "            current_options_prices.append(np.multiply(self.discount_factor, expected_value))\n",
    "        return np.array(current_options_prices)\n",
    "            \n",
    "    def options_pricing(self, verbose):\n",
    "        tree_size = self.steps\n",
    "        options_dict = {}\n",
    "        layer_dict = self.layer_price()\n",
    "        for i in range(tree_size-1, -1, -1):\n",
    "            layer_prices = layer_dict[i]\n",
    "            strike_full = np.full(len(layer_prices), self.strike) # Array of strike prices\n",
    "            if self.option_type == 'Call':\n",
    "                strike_diff = np.subtract(layer_prices, strike_full)\n",
    "            elif self.option_type == 'Put':\n",
    "                strike_diff = np.subtract(strike_full, layer_prices)\n",
    "            if i == self.time_to_expiry:  # Time of Expiry\n",
    "                options_dict[i] = np.maximum(strike_diff, 0)\n",
    "            elif i < self.time_to_expiry:\n",
    "                previous_option_values = options_dict[i+1]\n",
    "                option_present_value = self.calculate_current_options_price(previous_option_values)\n",
    "                options_dict[i] = np.maximum(strike_diff, option_present_value)\n",
    "            if i == self.time_to_expiry or i < self.time_to_expiry:\n",
    "                if verbose:\n",
    "                     print(\"Option chain at {}: {}\". format(i, options_dict[i]))\n",
    "        return options_dict\n",
    "    \n",
    "    def option_price_at_zero(self, verbose=True):\n",
    "        print(\"Building Trees, \")\n",
    "        return self.options_pricing(verbose)[0][0]\n",
    "            "
   ]
  },
  {
   "cell_type": "code",
   "execution_count": 2,
   "metadata": {},
   "outputs": [
    {
     "name": "stdout",
     "output_type": "stream",
     "text": [
      "Building Trees, \n",
      "Option chain at 6: [6.81380601 4.13982458 1.89109944 0.         0.         0.\n",
      " 0.        ]\n",
      "Option chain at 5: [5.44392683 2.99177486 0.92960056 0.         0.         0.        ]\n",
      "Option chain at 4: [4.18969979 1.94097464 0.45696021 0.         0.        ]\n",
      "Option chain at 3: [3.04152554 1.18531057 0.2246262  0.        ]\n",
      "Option chain at 2: [2.09480353 0.6963053  0.11041864]\n",
      "Option chain at 1: [1.38202117 0.39814502]\n",
      "Option chain at 0: [0.88079116]\n",
      "0.8807911581195348\n"
     ]
    }
   ],
   "source": [
    "# The options tree listed in the example attached\n",
    "option_c = Option(option_type='Call', price=10, strike=10, sigma=0.3, interest=0.03, expiry=1, steps=12, time_to_expiry=6)\n",
    "print(option_c.option_price_at_zero())"
   ]
  },
  {
   "cell_type": "code",
   "execution_count": 3,
   "metadata": {},
   "outputs": [
    {
     "name": "stdout",
     "output_type": "stream",
     "text": [
      "Building Trees, \n",
      "6.282542860997076\n"
     ]
    }
   ],
   "source": [
    "# The actual option chain\n",
    "# Please be patient, this could take about a minute to run\n",
    "option_a = Option(option_type='Call', price=100, strike=120, sigma=0.3, interest=0.03, expiry=1, steps=1000)\n",
    "\n",
    "print(option_a.option_price_at_zero(verbose=False))"
   ]
  },
  {
   "cell_type": "code",
   "execution_count": null,
   "metadata": {},
   "outputs": [],
   "source": []
  },
  {
   "cell_type": "code",
   "execution_count": null,
   "metadata": {},
   "outputs": [],
   "source": []
  }
 ],
 "metadata": {
  "kernelspec": {
   "display_name": "Python 3",
   "language": "python",
   "name": "python3"
  },
  "language_info": {
   "codemirror_mode": {
    "name": "ipython",
    "version": 3
   },
   "file_extension": ".py",
   "mimetype": "text/x-python",
   "name": "python",
   "nbconvert_exporter": "python",
   "pygments_lexer": "ipython3",
   "version": "3.6.5"
  }
 },
 "nbformat": 4,
 "nbformat_minor": 2
}
